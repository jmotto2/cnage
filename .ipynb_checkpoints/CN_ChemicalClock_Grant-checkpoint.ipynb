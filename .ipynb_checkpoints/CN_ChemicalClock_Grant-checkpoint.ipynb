{
 "cells": [
  {
   "cell_type": "code",
   "execution_count": 1,
   "id": "5dcfeafe",
   "metadata": {},
   "outputs": [],
   "source": [
    "## PYTHON lIBS ##\n",
    "import fitsio\n",
    "#from astropy.io import fits\n",
    "from astropy.table import Table, Column\n",
    "from astropy.coordinates import SkyCoord\n",
    "from astropy import units as u\n",
    "import numpy as np\n",
    "import numpy.lib.recfunctions as rec\n",
    "from matplotlib import pyplot as plt\n",
    "import scipy\n",
    "import scipy.optimize as opt\n",
    "import scipy.stats as stat\n",
    "import scipy.odr as odr\n",
    "from scipy.stats import pearsonr\n",
    "import os"
   ]
  },
  {
   "cell_type": "code",
   "execution_count": 2,
   "id": "89aacf61",
   "metadata": {},
   "outputs": [],
   "source": [
    "apogee=fitsio.read('allStar-dr17-synspec.fits') #DR17 main pipeline data"
   ]
  },
  {
   "cell_type": "code",
   "execution_count": 3,
   "id": "7b16cc68",
   "metadata": {},
   "outputs": [],
   "source": [
    "#CLEAN THE DATA UP! Removing bad bits and -9999 values for APOGEE. Grabbing only cluster members from OCCAM.\n",
    "# TWO BITWISE FLAGS FOR BAD DATA             \n",
    "badbits = 2**23        # aspcapstar flag - Chemistry\n",
    "suspectbits = 2**16    # star flag - Stellar parameters\n",
    "cfe_bad = 2**21        # aspcap flag - bad [C/Fe] values\n",
    "nfe_bad = 2**22        # aspcap flag - bad [N/Fe] values\n",
    "snr_bad = 2**27        # aspcap flag - BAD S/N flag (S/N<50)\n",
    "\n",
    "# Make a Boolean Mask to remove bad data\n",
    "gd = (np.bitwise_and(apogee['ASPCAPFLAG'], badbits) == 0) &\\\n",
    "(np.bitwise_and(apogee['STARFLAG'], suspectbits) == 0) &\\\n",
    "(np.bitwise_and(apogee['ASPCAPFLAG'],cfe_bad ) == 0) &\\\n",
    "(np.bitwise_and(apogee['ASPCAPFLAG'], nfe_bad) == 0) &\\\n",
    "(np.bitwise_and(apogee['ASPCAPFLAG'], snr_bad) == 0) & (apogee['SNREV']>75)\n",
    "teff_logg_check = np.logical_and(apogee[\"TEFF\"] > 0, apogee[\"LOGG\"] > -10)\n",
    "teff_logg_feh_check = np.logical_and(apogee[\"FE_H\"] > -6, teff_logg_check)\n",
    "C_N_check = np.logical_and(apogee[\"N_FE\"]>-2000, apogee[\"CI_FE\"] > -2000) &\\\n",
    "(apogee[\"C_FE_ERR\"]<=0.1) & (apogee[\"N_FE_ERR\"]<=0.1) & (apogee[\"C_FE\"] > -2000)\n",
    "evol_cut = (apogee[\"LOGG\"]<3.3) & (apogee['LOGG']>1)\n",
    "#star_param_check = np.logical_and(teff_logg_feh_check, CI_N_check)\n",
    "indices1 = np.where(np.logical_and(gd,teff_logg_feh_check), evol_cut, C_N_check)\n",
    "#cleaned allstar date. no -9999 values\n",
    "good_apo = apogee[indices1]"
   ]
  },
  {
   "cell_type": "code",
   "execution_count": 4,
   "id": "15b6312c",
   "metadata": {},
   "outputs": [
    {
     "name": "stdout",
     "output_type": "stream",
     "text": [
      "733901 360857\n",
      "APOGEE - CLEAN APOGEE = 373044 removed\n"
     ]
    }
   ],
   "source": [
    "print(len(apogee), len(good_apo))\n",
    "print(f\"APOGEE - CLEAN APOGEE = {len(apogee)-len(good_apo)} removed\")"
   ]
  },
  {
   "cell_type": "code",
   "execution_count": 5,
   "id": "5ef03ad6",
   "metadata": {},
   "outputs": [
    {
     "name": "stdout",
     "output_type": "stream",
     "text": [
      "[('APOGEE_ID', '<U18'), ('name', '<U12')]\n",
      "4169\n",
      "['Aleph' 'Arjuna' 'GES' 'HelmiStream' 'Heracles' 'Icarus' 'Iitoi' 'Nyx'\n",
      " 'Pontus' 'Sagittarius' 'Sequoia(K20)' 'Sequoia(M19)' 'Sequoia(N20)'\n",
      " 'Thamnos' 'Wukong']\n"
     ]
    }
   ],
   "source": [
    "#Horta et al 2022 - halo substruture star members: APOGEE_ID and Substructure names\n",
    "Horta_halosub = fitsio.read(\"halo_subs_Horta.fits\")\n",
    "print(Horta_halosub.dtype)\n",
    "print(len(Horta_halosub))\n",
    "print(np.unique(Horta_halosub['name']))"
   ]
  },
  {
   "cell_type": "code",
   "execution_count": 6,
   "id": "e664a480",
   "metadata": {},
   "outputs": [
    {
     "name": "stdout",
     "output_type": "stream",
     "text": [
      "progress: 0.00\n",
      "progress: 0.24\n",
      "progress: 0.48\n",
      "progress: 0.72\n",
      "progress: 0.96\n",
      "3033\n"
     ]
    }
   ],
   "source": [
    "apo_ind = []\n",
    "halo_ind = []\n",
    "# for i, souto in enumerate(s19_tbl3[\"2MassID\"]):\n",
    "for i, halostar in enumerate(Horta_halosub[\"APOGEE_ID\"]):\n",
    "    star_idx = np.where(good_apo[\"APOGEE_ID\"]==halostar)[0]\n",
    "    if len(star_idx) > 0:\n",
    "        apo_ind.append(star_idx[0])\n",
    "        halo_ind.append(i)\n",
    "    if i%1000 == 0:\n",
    "        print(f\"progress: {i/len(Horta_halosub):.2f}\")\n",
    "#     for j, apostar in enumerate(good_apo[\"GAIAEDR3_SOURCE_ID\"]):\n",
    "#         assert type(gaiastar) == type(apostar)\n",
    "#         if gaiastar == apostar:\n",
    "#             apo_ind.append(j)\n",
    "#             gaia_ind.append(i)\n",
    "#             break\n",
    "\n",
    "# print(apo_ind)\n",
    "# print(gaia_ind)\n",
    "\n",
    "\n",
    "\n",
    "Apodata = good_apo[apo_ind]\n",
    "Horta_stars = Horta_halosub[halo_ind]\n",
    "\n",
    "print(len(Horta_stars))\n",
    "substruc_names = np.core.records.fromarrays([Horta_stars[\"name\"]], \n",
    "                                      names='''SUBSTRUC_NAME''')\n",
    "\n",
    "Horta_stardata = rec.merge_arrays([Apodata,substruc_names], flatten=True)\n",
    "\n"
   ]
  },
  {
   "cell_type": "code",
   "execution_count": 7,
   "id": "b61ec2f6",
   "metadata": {},
   "outputs": [],
   "source": [
    "# fitsio.write('CN_APOGEE_Horta_halo_substructures.fits', Horta_stardata, clobber=True)"
   ]
  },
  {
   "cell_type": "code",
   "execution_count": 16,
   "id": "de42d82e",
   "metadata": {},
   "outputs": [
    {
     "name": "stdout",
     "output_type": "stream",
     "text": [
      "3026\n",
      "99.7692054071876\n",
      "7\n",
      "2987\n",
      "98.4833498186614\n",
      "46\n"
     ]
    }
   ],
   "source": [
    "print(len(Horta_stardata[Horta_stardata['LOGG']<3.3]))\n",
    "print(len(Horta_stardata[Horta_stardata['LOGG']<3.3])/len(Horta_stardata)*100)\n",
    "print(len(Horta_stardata)-len(Horta_stardata[Horta_stardata['LOGG']<3.3]))\n",
    "print(len(Horta_stardata[Horta_stardata['LOGG']<3.2]))\n",
    "print(len(Horta_stardata[Horta_stardata['LOGG']<3.2])/len(Horta_stardata)*100)\n",
    "print(len(Horta_stardata)-len(Horta_stardata[Horta_stardata['LOGG']<3.2]))"
   ]
  },
  {
   "cell_type": "code",
   "execution_count": 23,
   "id": "2d45a661",
   "metadata": {},
   "outputs": [
    {
     "name": "stdout",
     "output_type": "stream",
     "text": [
      "0.09891196834817013\n",
      "731\n",
      "0.24101549620837454\n",
      "0.35509396636993074\n",
      "0.8038245961094626\n",
      "Stars from Horta et al sample that fit OC calibration: 300\n",
      "Aleph: 11 stars (Horta et al stars: 28)\n",
      "GES: 27 stars (Horta et al stars: 2353)\n",
      "HelmiStream: 5 stars (Horta et al stars: 85)\n",
      "Heracles: 2 stars (Horta et al stars: 303)\n",
      "Nyx: 228 stars (Horta et al stars: 589)\n",
      "Sagittarius: 25 stars (Horta et al stars: 266)\n",
      "Sequoia(M19): 1 stars (Horta et al stars: 116)\n",
      "Thamnos: 1 stars (Horta et al stars: 121)\n",
      "\n",
      "Stars from Horta et al sample that fit OC+47Tuc+M71 calibration: 731\n",
      "Aleph: 22 stars (Horta et al stars: 28)\n",
      "Arjuna: 1 stars (Horta et al stars: 132)\n",
      "GES: 159 stars (Horta et al stars: 2353)\n",
      "HelmiStream: 8 stars (Horta et al stars: 85)\n",
      "Heracles: 7 stars (Horta et al stars: 303)\n",
      "Nyx: 469 stars (Horta et al stars: 589)\n",
      "Sagittarius: 58 stars (Horta et al stars: 266)\n",
      "Sequoia(M19): 4 stars (Horta et al stars: 116)\n",
      "Thamnos: 3 stars (Horta et al stars: 121)\n",
      "\n",
      "Stars from Horta et al sample that fit [Fe/H]>=-1 calibration: 1077\n",
      "Aleph: 22 stars (Horta et al stars: 28)\n",
      "Arjuna: 10 stars (Horta et al stars: 132)\n",
      "GES: 423 stars (Horta et al stars: 2353)\n",
      "HelmiStream: 8 stars (Horta et al stars: 85)\n",
      "Heracles: 21 stars (Horta et al stars: 303)\n",
      "Nyx: 512 stars (Horta et al stars: 589)\n",
      "Sagittarius: 68 stars (Horta et al stars: 266)\n",
      "Sequoia(K20): 3 stars (Horta et al stars: 45)\n",
      "Sequoia(M19): 7 stars (Horta et al stars: 116)\n",
      "Thamnos: 3 stars (Horta et al stars: 121)\n",
      "\n",
      "Stars from Horta et al sample that fit [Fe/H]>=-1.5 calibration: 2438\n",
      "Aleph: 22 stars (Horta et al stars: 28)\n",
      "Arjuna: 85 stars (Horta et al stars: 132)\n",
      "GES: 1360 stars (Horta et al stars: 2353)\n",
      "HelmiStream: 29 stars (Horta et al stars: 85)\n",
      "Heracles: 189 stars (Horta et al stars: 303)\n",
      "Icarus: 1 stars (Horta et al stars: 1)\n",
      "Nyx: 529 stars (Horta et al stars: 589)\n",
      "Sagittarius: 84 stars (Horta et al stars: 266)\n",
      "Sequoia(K20): 21 stars (Horta et al stars: 45)\n",
      "Sequoia(M19): 52 stars (Horta et al stars: 116)\n",
      "Thamnos: 64 stars (Horta et al stars: 121)\n",
      "Wukong: 2 stars (Horta et al stars: 31)\n"
     ]
    }
   ],
   "source": [
    "metal_rich_OCcali = (Horta_stardata[(Horta_stardata['FE_H']>=-0.5) & (Horta_stardata['LOGG']<3.3)])\n",
    "print(len(metal_rich_OCcali)/len(Horta_stardata))\n",
    "OCcali_plus47TucM71 = (Horta_stardata[(Horta_stardata['FE_H']>=-0.78) & (Horta_stardata['LOGG']<3.3)])\n",
    "print(len(OCcali_plus47TucM71))\n",
    "print(len(OCcali_plus47TucM71)/len(Horta_stardata))\n",
    "OCcali_future1 = (Horta_stardata[(Horta_stardata['FE_H']>=-1) & (Horta_stardata['LOGG']<3.3)]) \n",
    "print(len(OCcali_future1)/len(Horta_stardata))\n",
    "OCcali_future2 = (Horta_stardata[(Horta_stardata['FE_H']>=-1.5) & (Horta_stardata['LOGG']<3.3)])\n",
    "print(len(OCcali_future2)/len(Horta_stardata))\n",
    "\n",
    "print(f\"Stars from Horta et al sample that fit OC calibration: {len(metal_rich_OCcali)}\")\n",
    "# print(f\"Halo substructures that fit OC calibration: {np.unique(metal_rich_OCcali['SUBSTRUC_NAME'])}\")\n",
    "for name in np.unique(metal_rich_OCcali['SUBSTRUC_NAME']):\n",
    "    sub = metal_rich_OCcali['SUBSTRUC_NAME'] == name\n",
    "    print(f\"{name}: {len(metal_rich_OCcali[sub])} stars (Horta et al stars: {len(Horta_halosub[Horta_halosub['name']==name])})\")\n",
    "#     if len(metal_rich_OCcali[sub])<10:\n",
    "#         print(f\"LOGG: {metal_rich_OCcali[sub]['LOGG']}\")\n",
    "#         print(f\"[Fe/H]: {metal_rich_OCcali[sub]['FE_H']}\")\n",
    "print()\n",
    "\n",
    "print(f\"Stars from Horta et al sample that fit OC+47Tuc+M71 calibration: {len(OCcali_plus47TucM71)}\")\n",
    "# print(f\"Halo substructures that fit OC+47Tuc+M71 calibration: {np.unique(OCcali_plus47TucM71['SUBSTRUC_NAME'])}\")\n",
    "for name in np.unique(OCcali_plus47TucM71['SUBSTRUC_NAME']):\n",
    "    sub = OCcali_plus47TucM71['SUBSTRUC_NAME'] == name\n",
    "    print(f\"{name}: {len(OCcali_plus47TucM71[sub])} stars (Horta et al stars: {len(Horta_halosub[Horta_halosub['name']==name])})\")\n",
    "#     if len(OCcali_plus47TucM71[sub])<10:\n",
    "#         print(f\"LOGG: {OCcali_plus47TucM71[sub]['LOGG']}\")\n",
    "#         print(f\"[Fe/H]: {OCcali_plus47TucM71[sub]['FE_H']}\")\n",
    "print()\n",
    "print(f\"Stars from Horta et al sample that fit [Fe/H]>=-1 calibration: {len(OCcali_future1)}\")\n",
    "# print(f\"Halo substructures that fit OC+47Tuc+M71 calibration: {np.unique(OCcali_plus47TucM71['SUBSTRUC_NAME'])}\")\n",
    "for name in np.unique(OCcali_future1['SUBSTRUC_NAME']):\n",
    "    sub = OCcali_future1['SUBSTRUC_NAME'] == name\n",
    "    print(f\"{name}: {len(OCcali_future1[sub])} stars (Horta et al stars: {len(Horta_halosub[Horta_halosub['name']==name])})\")\n",
    "print()\n",
    "print(f\"Stars from Horta et al sample that fit [Fe/H]>=-1.5 calibration: {len(OCcali_future2)}\")\n",
    "# print(f\"Halo substructures that fit OC+47Tuc+M71 calibration: {np.unique(OCcali_plus47TucM71['SUBSTRUC_NAME'])}\")\n",
    "for name in np.unique(OCcali_future2['SUBSTRUC_NAME']):\n",
    "    sub = OCcali_future2['SUBSTRUC_NAME'] == name\n",
    "    print(f\"{name}: {len(OCcali_future2[sub])} stars (Horta et al stars: {len(Horta_halosub[Horta_halosub['name']==name])})\")\n"
   ]
  },
  {
   "cell_type": "code",
   "execution_count": null,
   "id": "849fedf6",
   "metadata": {},
   "outputs": [],
   "source": []
  }
 ],
 "metadata": {
  "kernelspec": {
   "display_name": "Python 3 (ipykernel)",
   "language": "python",
   "name": "python3"
  },
  "language_info": {
   "codemirror_mode": {
    "name": "ipython",
    "version": 3
   },
   "file_extension": ".py",
   "mimetype": "text/x-python",
   "name": "python",
   "nbconvert_exporter": "python",
   "pygments_lexer": "ipython3",
   "version": "3.11.5"
  }
 },
 "nbformat": 4,
 "nbformat_minor": 5
}
